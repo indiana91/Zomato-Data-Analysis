{
 "cells": [
  {
   "cell_type": "markdown",
   "metadata": {},
   "source": [
    "### Task 1: Predictive Modelling\n",
    "\n",
    "We'll build a regression model to predict the aggregate rating of a restaurant based on available features. We'll split the dataset into training and testing sets and evaluate the model's performance using appropriate metrics. We'll experiment with different machine learning algorithms such as linear regression, decision trees, and random forests.\n",
    "\n",
    "#### Step-by-step approach:\n",
    "\n",
    "1. **Preprocess the data**: Handle categorical variables and normalize the data.\n",
    "2. **Split the data**: Split the dataset into training and testing sets.\n",
    "3. **Build and evaluate models**: Train and evaluate different regression models."
   ]
  },
  {
   "cell_type": "code",
   "execution_count": 1,
   "metadata": {},
   "outputs": [],
   "source": [
    "# Importing the basic libraries\n",
    "import numpy as np\n",
    "import pandas as pd\n",
    "import matplotlib.pyplot as plt\n",
    "import seaborn as sns\n",
    "\n",
    "import warnings\n",
    "# Disable all warnings\n",
    "warnings.filterwarnings ('ignore')"
   ]
  },
  {
   "cell_type": "code",
   "execution_count": 2,
   "metadata": {},
   "outputs": [],
   "source": [
    "from sklearn.model_selection import train_test_split\n",
    "from sklearn.preprocessing import StandardScaler, LabelEncoder\n",
    "from sklearn.linear_model import LinearRegression\n",
    "from sklearn.tree import DecisionTreeRegressor\n",
    "from sklearn.ensemble import RandomForestRegressor\n",
    "from sklearn.metrics import mean_squared_error, r2_score\n",
    "import plotly.express as px\n",
    "import plotly.graph_objs as go\n"
   ]
  },
  {
   "cell_type": "code",
   "execution_count": 3,
   "metadata": {},
   "outputs": [],
   "source": [
    "# Load the dataset\n",
    "df = pd.read_csv('./data/data.csv')\n"
   ]
  },
  {
   "cell_type": "code",
   "execution_count": 4,
   "metadata": {},
   "outputs": [],
   "source": [
    "\n",
    "# Preprocess the data\n",
    "# Convert categorical variables to numerical\n",
    "le = LabelEncoder()\n",
    "df['Cuisines'] = le.fit_transform(df['Cuisines'])\n",
    "df['City'] = le.fit_transform(df['City'])\n",
    "df['Country Code'] = le.fit_transform(df['Country Code'])\n",
    "df['Rating color'] = le.fit_transform(df['Rating color'])\n",
    "df['Has Table booking'] = df['Has Table booking'].apply(lambda x: 1 if x == 'Yes' else 0)\n",
    "df['Has Online delivery'] = df['Has Online delivery'].apply(lambda x: 1 if x == 'Yes' else 0)\n"
   ]
  },
  {
   "cell_type": "code",
   "execution_count": 5,
   "metadata": {},
   "outputs": [],
   "source": [
    "\n",
    "# Select features and target variable\n",
    "features = ['Country Code', 'City', 'Cuisines', 'Price range', 'Has Table booking', 'Has Online delivery']\n",
    "X = df[features]\n",
    "y = df['Aggregate rating']\n"
   ]
  },
  {
   "cell_type": "code",
   "execution_count": 6,
   "metadata": {},
   "outputs": [],
   "source": [
    "\n",
    "# Split the data into training and testing sets\n",
    "X_train, X_test, y_train, y_test = train_test_split(X, y, test_size=0.2, random_state=42)\n",
    "    "
   ]
  },
  {
   "cell_type": "code",
   "execution_count": 7,
   "metadata": {},
   "outputs": [],
   "source": [
    "\n",
    "# Standardize the features\n",
    "scaler = StandardScaler()\n",
    "X_train = scaler.fit_transform(X_train)\n",
    "X_test = scaler.transform(X_test)\n"
   ]
  },
  {
   "cell_type": "code",
   "execution_count": 8,
   "metadata": {},
   "outputs": [],
   "source": [
    "\n",
    "# Train and evaluate different regression models\n",
    "models = {\n",
    "    'Linear Regression': LinearRegression(),\n",
    "    'Decision Tree': DecisionTreeRegressor(random_state=42),\n",
    "    'Random Forest': RandomForestRegressor(random_state=42)\n",
    "}\n"
   ]
  },
  {
   "cell_type": "code",
   "execution_count": 9,
   "metadata": {},
   "outputs": [],
   "source": [
    "\n",
    "results = {}\n",
    "for name, model in models.items():\n",
    "    model.fit(X_train, y_train)\n",
    "    y_pred = model.predict(X_test)\n",
    "    mse = mean_squared_error(y_test, y_pred)\n",
    "    r2 = r2_score(y_test, y_pred)\n",
    "    results[name] = {'MSE': mse, 'R2': r2}\n"
   ]
  },
  {
   "cell_type": "code",
   "execution_count": 10,
   "metadata": {},
   "outputs": [
    {
     "name": "stdout",
     "output_type": "stream",
     "text": [
      "                        MSE        R2\n",
      "Linear Regression  1.645230  0.277174\n",
      "Decision Tree      1.759292  0.227062\n",
      "Random Forest      1.555506  0.316594\n"
     ]
    }
   ],
   "source": [
    "\n",
    "# Display results\n",
    "results_df = pd.DataFrame(results).T\n",
    "print(results_df)\n"
   ]
  },
  {
   "cell_type": "markdown",
   "metadata": {},
   "source": [
    "### Task 2: Customer Preference Analysis\n",
    "\n",
    "We'll analyze the relationship between the type of cuisine and the restaurant's rating. We'll identify the most popular cuisines based on the number of votes and determine if there are any specific cuisines that tend to receive higher ratings.\n"
   ]
  },
  {
   "cell_type": "code",
   "execution_count": 11,
   "metadata": {},
   "outputs": [
    {
     "name": "stdout",
     "output_type": "stream",
     "text": [
      "Average rating by cuisine:\n",
      " Cuisines\n",
      "1062    4.9\n",
      "41      4.9\n",
      "13      4.9\n",
      "169     4.9\n",
      "1034    4.9\n",
      "       ... \n",
      "1       0.0\n",
      "75      0.0\n",
      "1790    0.0\n",
      "2       0.0\n",
      "1808    0.0\n",
      "Name: Aggregate rating, Length: 1826, dtype: float64\n"
     ]
    }
   ],
   "source": [
    "# Analyse the relationship between the type of cuisine and the restaurant's rating\n",
    "cuisine_ratings = df.groupby('Cuisines')['Aggregate rating'].mean().sort_values(ascending=False)\n",
    "print('Average rating by cuisine:\\n', cuisine_ratings)\n"
   ]
  },
  {
   "cell_type": "code",
   "execution_count": 12,
   "metadata": {},
   "outputs": [
    {
     "name": "stdout",
     "output_type": "stream",
     "text": [
      "Most popular cuisines based on votes:\n",
      " Cuisines\n",
      "1514    53747\n",
      "1306    46241\n",
      "1329    42012\n",
      "331     30657\n",
      "497     21925\n",
      "        ...  \n",
      "1398        0\n",
      "1711        0\n",
      "234         0\n",
      "1299        0\n",
      "1811        0\n",
      "Name: Votes, Length: 1826, dtype: int64\n"
     ]
    }
   ],
   "source": [
    "# Identify the most popular cuisines based on the number of votes\n",
    "cuisine_votes = df.groupby('Cuisines')['Votes'].sum().sort_values(ascending=False)\n",
    "print('Most popular cuisines based on votes:\\n', cuisine_votes)\n"
   ]
  },
  {
   "cell_type": "code",
   "execution_count": 13,
   "metadata": {},
   "outputs": [
    {
     "name": "stdout",
     "output_type": "stream",
     "text": [
      "Top 10 cuisines with highest ratings:\n",
      " Cuisines\n",
      "1062    4.9\n",
      "41      4.9\n",
      "13      4.9\n",
      "169     4.9\n",
      "1034    4.9\n",
      "33      4.9\n",
      "949     4.9\n",
      "1214    4.9\n",
      "37      4.9\n",
      "1286    4.9\n",
      "Name: Aggregate rating, dtype: float64\n"
     ]
    }
   ],
   "source": [
    "# Determine if there are any specific cuisines that tend to receive higher ratings\n",
    "top_cuisines = cuisine_ratings.head(10)\n",
    "print('Top 10 cuisines with highest ratings:\\n', top_cuisines)\n"
   ]
  },
  {
   "cell_type": "markdown",
   "metadata": {},
   "source": [
    "### Task 3: Data Visualization\n",
    "\n",
    "We'll create advanced visualizations using Plotly to represent the distribution of ratings and compare the average ratings of different cuisines or cities. We'll visualize the relationship between various features and the target variable."
   ]
  },
  {
   "cell_type": "code",
   "execution_count": 14,
   "metadata": {},
   "outputs": [],
   "source": [
    "import dash\n",
    "from dash import dcc, html\n",
    "from dash.dependencies import Input, Output\n",
    "\n",
    "# Create Dash app\n",
    "app = dash.Dash(__name__)\n",
    "\n",
    "app.layout = html.Div([\n",
    "    html.H1(\"Restaurant Ratings Analysis\"),\n",
    "    \n",
    "    dcc.Graph(\n",
    "        id='histogram',\n",
    "        figure=px.histogram(df, x='Aggregate rating', nbins=20, title='Distribution of Aggregate Rating')\n",
    "    ),\n",
    "    \n",
    "    dcc.Graph(\n",
    "        id='bar-plot',\n",
    "        figure=px.bar(df, x='Cuisines', y='Aggregate rating', title='Average Rating by Cuisine')\n",
    "    ),\n",
    "    \n",
    "    dcc.Graph(\n",
    "        id='violin-plot',\n",
    "        figure=px.violin(df, y='Aggregate rating', x='City', box=True, points='all', title='Aggregate Rating by City')\n",
    "    ),\n",
    "    \n",
    "    dcc.Graph(\n",
    "        id='hexbin-plot',\n",
    "        figure=px.density_heatmap(df, x='Longitude', y='Latitude', z='Aggregate rating', nbinsx=30, nbinsy=30, title='Hexbin Plot of Ratings by Location')\n",
    "    ),\n",
    "    \n",
    "    dcc.Graph(\n",
    "        id='bubble-plot',\n",
    "        figure=px.scatter(df, x='Votes', y='Aggregate rating', size='Price range', color='City', hover_name='Restaurant Name', title='Bubble Plot of Ratings vs Votes')\n",
    "    )\n",
    "])\n"
   ]
  },
  {
   "cell_type": "code",
   "execution_count": 15,
   "metadata": {},
   "outputs": [
    {
     "data": {
      "text/html": [
       "\n",
       "        <iframe\n",
       "            width=\"100%\"\n",
       "            height=\"650\"\n",
       "            src=\"http://127.0.0.1:8050/\"\n",
       "            frameborder=\"0\"\n",
       "            allowfullscreen\n",
       "            \n",
       "        ></iframe>\n",
       "        "
      ],
      "text/plain": [
       "<IPython.lib.display.IFrame at 0x18f51fecd90>"
      ]
     },
     "metadata": {},
     "output_type": "display_data"
    }
   ],
   "source": [
    "\n",
    "# Run the app\n",
    "if __name__ == '__main__':\n",
    "    app.run_server(debug=True)\n"
   ]
  },
  {
   "cell_type": "markdown",
   "metadata": {},
   "source": [
    "### Summary\n",
    "\n",
    "1. **Predictive Modelling**: Built and evaluated regression models using linear regression, decision trees, and random forests to predict restaurant ratings.\n",
    "2. **Customer Preference Analysis**: Analyzed the relationship between cuisine types and ratings, identified popular cuisines, and determined cuisines with higher ratings.\n",
    "3. **Data Visualization**: Created advanced visualizations using Plotly and Dash to represent data insights and facilitate data-driven decisions.\n",
    "\n",
    "You can run the provided code to complete each task and gain insights from your dataset."
   ]
  }
 ],
 "metadata": {
  "kernelspec": {
   "display_name": "env",
   "language": "python",
   "name": "python3"
  },
  "language_info": {
   "codemirror_mode": {
    "name": "ipython",
    "version": 3
   },
   "file_extension": ".py",
   "mimetype": "text/x-python",
   "name": "python",
   "nbconvert_exporter": "python",
   "pygments_lexer": "ipython3",
   "version": "3.11.9"
  }
 },
 "nbformat": 4,
 "nbformat_minor": 2
}
